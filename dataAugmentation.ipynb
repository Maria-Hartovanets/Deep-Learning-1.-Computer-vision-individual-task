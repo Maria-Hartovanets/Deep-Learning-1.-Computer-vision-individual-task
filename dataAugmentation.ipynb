{
 "cells": [
  {
   "cell_type": "code",
   "execution_count": 2,
   "metadata": {},
   "outputs": [
    {
     "ename": "ModuleNotFoundError",
     "evalue": "No module named 'tensorflow'",
     "output_type": "error",
     "traceback": [
      "\u001b[1;31m---------------------------------------------------------------------------\u001b[0m",
      "\u001b[1;31mModuleNotFoundError\u001b[0m                       Traceback (most recent call last)",
      "\u001b[1;32m~\\AppData\\Local\\Temp\\ipykernel_21076\\3031553851.py\u001b[0m in \u001b[0;36m<module>\u001b[1;34m\u001b[0m\n\u001b[0;32m      2\u001b[0m \u001b[1;32mimport\u001b[0m \u001b[0mnumpy\u001b[0m \u001b[1;32mas\u001b[0m \u001b[0mnp\u001b[0m\u001b[1;33m\u001b[0m\u001b[1;33m\u001b[0m\u001b[0m\n\u001b[0;32m      3\u001b[0m \u001b[1;32mimport\u001b[0m \u001b[0mmatplotlib\u001b[0m\u001b[1;33m.\u001b[0m\u001b[0mpyplot\u001b[0m \u001b[1;32mas\u001b[0m \u001b[0mplt\u001b[0m\u001b[1;33m\u001b[0m\u001b[1;33m\u001b[0m\u001b[0m\n\u001b[1;32m----> 4\u001b[1;33m \u001b[1;32mimport\u001b[0m \u001b[0mtensorflow\u001b[0m\u001b[1;33m\u001b[0m\u001b[1;33m\u001b[0m\u001b[0m\n\u001b[0m\u001b[0;32m      5\u001b[0m \u001b[1;31m#!pip install tensorflow\u001b[0m\u001b[1;33m\u001b[0m\u001b[1;33m\u001b[0m\u001b[0m\n\u001b[0;32m      6\u001b[0m \u001b[1;32mfrom\u001b[0m \u001b[0mtensorflow\u001b[0m\u001b[1;33m.\u001b[0m\u001b[0mkeras\u001b[0m\u001b[1;33m.\u001b[0m\u001b[0mpreprocessing\u001b[0m\u001b[1;33m.\u001b[0m\u001b[0mimage\u001b[0m \u001b[1;32mimport\u001b[0m \u001b[0mImageDataGenerator\u001b[0m\u001b[1;33m,\u001b[0m \u001b[0mload_img\u001b[0m\u001b[1;33m,\u001b[0m \u001b[0mimg_to_array\u001b[0m\u001b[1;33m\u001b[0m\u001b[1;33m\u001b[0m\u001b[0m\n",
      "\u001b[1;31mModuleNotFoundError\u001b[0m: No module named 'tensorflow'"
     ]
    }
   ],
   "source": [
    "import os\n",
    "import numpy as np\n",
    "import matplotlib.pyplot as plt\n",
    "import tensorflow\n",
    "#!pip install tensorflow\n",
    "from tensorflow.keras.preprocessing.image import ImageDataGenerator, load_img, img_to_array"
   ]
  },
  {
   "cell_type": "code",
   "execution_count": null,
   "metadata": {},
   "outputs": [],
   "source": [
    "numbers = []\n",
    "\n",
    "#Підраховуємо кількість зображень для кожного класу\n",
    "for folder in os.listdir('train'):\n",
    "    numbers.append(len(os.listdir('train/{folder}'.format(folder=folder))))\n",
    "\n",
    "print('Number of classes: '+str(len(numbers)))\n",
    "print('Max number of images per class: '+str(max(numbers)))\n",
    "print('Min number of images per class: '+str(min(numbers)))\n",
    "print('Difference: '+str((max(numbers)-min(numbers))))\n",
    "print('Mean number of images per class: '+str(np.mean(numbers).round()))\n"
   ]
  },
  {
   "cell_type": "code",
   "execution_count": null,
   "metadata": {},
   "outputs": [],
   "source": [
    "# ImageDataGenerator - генератор зображень\n",
    "datagen = ImageDataGenerator(\n",
    "\trotation_range=30,\n",
    "\tbrightness_range=[0.2,1.5],\n",
    "\thorizontal_flip=True,\n",
    "\tvertical_flip=True,\n",
    "\twidth_shift_range=0.2, \n",
    "\theight_shift_range=0.2,\n",
    "\tfill_mode='nearest')"
   ]
  },
  {
   "cell_type": "markdown",
   "metadata": {},
   "source": [
    "Check max number of images through all classes and augment every other class with new generated images to that number "
   ]
  },
  {
   "cell_type": "code",
   "execution_count": null,
   "metadata": {},
   "outputs": [],
   "source": [
    "numbers = []\n",
    "\n",
    "for folder in os.listdir('train'):\n",
    "    numbers.append(len(os.listdir('train/{folder}'.format(folder=folder))))\n",
    "\n",
    "print(numbers)\n",
    "# Максимальна кількість зображень для одного класу\n",
    "max_number_per_class = max(numbers)\n",
    "for folder in os.listdir('train'):\n",
    "    dirs = os.listdir('train/{folder}'.format(folder=folder))\n",
    "    # Генеруємо нові зображення на основі наявного для кожного класу поки кількість зображень менша за максимальне\n",
    "    if(len(dirs)<max_number_per_class):\n",
    "        i = len(dirs)\n",
    "        print(dirs[0])\n",
    "        image_name = dirs[0]\n",
    "        image = load_img('train/{folder}/{image}'.format(folder=folder,image=image_name))\n",
    "        img = img_to_array(image)\n",
    "        img = np.expand_dims(img, axis=0)\n",
    "        aug_iter = datagen.flow(img, batch_size=1,save_to_dir='train/{folder}'.format(folder=folder))\n",
    "        while(i<max_number_per_class):\n",
    "            next(aug_iter)\n",
    "            i+=1\n",
    "        \n",
    "# Отримаємо однакову кількість зображень для кожного класу, для коректного навчання"
   ]
  }
 ],
 "metadata": {
  "kernelspec": {
   "display_name": "Python 3 (ipykernel)",
   "language": "python",
   "name": "python3"
  },
  "language_info": {
   "codemirror_mode": {
    "name": "ipython",
    "version": 3
   },
   "file_extension": ".py",
   "mimetype": "text/x-python",
   "name": "python",
   "nbconvert_exporter": "python",
   "pygments_lexer": "ipython3",
   "version": "3.9.13"
  }
 },
 "nbformat": 4,
 "nbformat_minor": 2
}
